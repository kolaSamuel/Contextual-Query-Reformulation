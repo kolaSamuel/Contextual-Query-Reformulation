{
 "cells": [
  {
   "cell_type": "code",
   "execution_count": 2,
   "metadata": {},
   "outputs": [],
   "source": [
    "import string\n",
    "import spacy\n",
    "from tqdm import tqdm\n",
    "import numpy as np\n",
    "import pandas as pd\n",
    "import json\n",
    "from collections import defaultdict, Counter\n",
    "import sys\n",
    "from IPython.display import display\n",
    "from random import randint\n",
    "from copy import deepcopy\n",
    "tqdm.pandas()\n",
    "nlp = spacy.load('en_core_web_sm')\n",
    "from utils import *\n",
    "\n",
    "def addPunct(doc):\n",
    "    if any(x in string.punctuation for x in doc[-3:]):\n",
    "        return doc\n",
    "    return doc +'.'\n",
    "                "
   ]
  },
  {
   "cell_type": "code",
   "execution_count": 2,
   "metadata": {},
   "outputs": [
    {
     "data": {
      "text/plain": [
       "53"
      ]
     },
     "metadata": {},
     "output_type": "display_data"
    },
    {
     "data": {
      "text/plain": [
       "{'date': ['this week', 'Random property'],\n",
       " 'weather_attribute': ['rain'],\n",
       " 'location': ['menlo park']}"
      ]
     },
     "metadata": {},
     "output_type": "display_data"
    },
    {
     "data": {
      "text/plain": [
       "['is it going to rain sometime this week.',\n",
       " \"What city are you wanting to know if it's going to rain?\",\n",
       " 'is it going to rain sometime this week in Menlo Park.',\n",
       " 'In Menlo Park, it will rain on Tuesday and Wednesday.',\n",
       " 'Thanks!',\n",
       " 'No problem.']"
      ]
     },
     "metadata": {},
     "output_type": "display_data"
    },
    {
     "data": {
      "text/html": [
       "<div>\n",
       "<style scoped>\n",
       "    .dataframe tbody tr th:only-of-type {\n",
       "        vertical-align: middle;\n",
       "    }\n",
       "\n",
       "    .dataframe tbody tr th {\n",
       "        vertical-align: top;\n",
       "    }\n",
       "\n",
       "    .dataframe thead th {\n",
       "        text-align: right;\n",
       "    }\n",
       "</style>\n",
       "<table border=\"1\" class=\"dataframe\">\n",
       "  <thead>\n",
       "    <tr style=\"text-align: right;\">\n",
       "      <th></th>\n",
       "      <th>Original_turns</th>\n",
       "      <th>Original_RoleBased</th>\n",
       "      <th>Reformulated_turns</th>\n",
       "      <th>Reformulated_RoleBased</th>\n",
       "      <th>Slots</th>\n",
       "    </tr>\n",
       "  </thead>\n",
       "  <tbody>\n",
       "    <tr>\n",
       "      <th>146</th>\n",
       "      <td>[is it going to rain sometime this week., What...</td>\n",
       "      <td>[is it going to weather_attribute_1 sometime d...</td>\n",
       "      <td>[is it going to rain sometime this week., What...</td>\n",
       "      <td>[is it going to weather_attribute_1 sometime d...</td>\n",
       "      <td>{'date': ['this week', 'Random property'], 'we...</td>\n",
       "    </tr>\n",
       "  </tbody>\n",
       "</table>\n",
       "</div>"
      ],
      "text/plain": [
       "                                        Original_turns  \\\n",
       "146  [is it going to rain sometime this week., What...   \n",
       "\n",
       "                                    Original_RoleBased  \\\n",
       "146  [is it going to weather_attribute_1 sometime d...   \n",
       "\n",
       "                                    Reformulated_turns  \\\n",
       "146  [is it going to rain sometime this week., What...   \n",
       "\n",
       "                                Reformulated_RoleBased  \\\n",
       "146  [is it going to weather_attribute_1 sometime d...   \n",
       "\n",
       "                                                 Slots  \n",
       "146  {'date': ['this week', 'Random property'], 'we...  "
      ]
     },
     "metadata": {},
     "output_type": "display_data"
    },
    {
     "name": "stderr",
     "output_type": "stream",
     "text": [
      "1it [00:00,  6.87it/s]\n"
     ]
    },
    {
     "data": {
      "text/plain": [
       "['is it going to weather_attribute_1 sometime date_1.',\n",
       " \"what city are you wanting to know if it's going to weather_attribute_1?\",\n",
       " 'is it going to weather_attribute_1 sometime date_1 in location_1.',\n",
       " 'in location_1, it will weather_attribute_1 on tuesday and wednesday.',\n",
       " 'thanks!',\n",
       " 'no problem.']"
      ]
     },
     "metadata": {},
     "output_type": "display_data"
    },
    {
     "data": {
      "text/plain": [
       "{'date': ['this week', (False, 'Random property')],\n",
       " 'weather_attribute': ['rain'],\n",
       " 'location': ['menlo park']}"
      ]
     },
     "metadata": {},
     "output_type": "display_data"
    },
    {
     "name": "stdout",
     "output_type": "stream",
     "text": [
      "0\n"
     ]
    }
   ],
   "source": [
    "index = randint(0, 240)\n",
    "table = pd.read_json('Data/DEV CQR Table.json').iloc[index:index+1]\n",
    "turns = table.Reformulated_turns\n",
    "slots = table.Slots\n",
    "slots.iloc[0][list(slots.iloc[0].keys())[0]].append('Random property')\n",
    "display(index, *slots, *turns, table)\n",
    "results = [rolebased(x[:], y, True) for x, y in tqdm(zip(turns, slots))]\n",
    "display(*results, *slots)\n",
    "print(sum([sum([not(entity) for entity in entities ]) for entities in slots.iloc[0].values()]))"
   ]
  },
  {
   "cell_type": "code",
   "execution_count": 8,
   "metadata": {},
   "outputs": [
    {
     "name": "stdout",
     "output_type": "stream",
     "text": [
      "\n",
      "TRAIN\n",
      "______\n",
      "\n"
     ]
    },
    {
     "name": "stderr",
     "output_type": "stream",
     "text": [
      "2131it [08:11,  5.14it/s]\n",
      "2131it [08:28,  4.03it/s]\n",
      "2131it [00:00, 267342.50it/s]\n",
      "2131it [08:02,  6.07it/s]\n",
      "2131it [00:00, 213665.66it/s]\n",
      "2131it [06:29,  5.80it/s]\n"
     ]
    },
    {
     "name": "stdout",
     "output_type": "stream",
     "text": [
      "0 9861 0.0\n"
     ]
    },
    {
     "data": {
      "text/html": [
       "<div>\n",
       "<style scoped>\n",
       "    .dataframe tbody tr th:only-of-type {\n",
       "        vertical-align: middle;\n",
       "    }\n",
       "\n",
       "    .dataframe tbody tr th {\n",
       "        vertical-align: top;\n",
       "    }\n",
       "\n",
       "    .dataframe thead th {\n",
       "        text-align: right;\n",
       "    }\n",
       "</style>\n",
       "<table border=\"1\" class=\"dataframe\">\n",
       "  <thead>\n",
       "    <tr style=\"text-align: right;\">\n",
       "      <th></th>\n",
       "      <th>Original_turns</th>\n",
       "      <th>Original_EntityIndex</th>\n",
       "      <th>Original_RoleBased</th>\n",
       "      <th>Original_RoleBased_INVERSE</th>\n",
       "      <th>Reformulated_turns</th>\n",
       "      <th>Reformulated_EntityIndex</th>\n",
       "      <th>Reformulated_RoleBased_INVERSE</th>\n",
       "      <th>Reformulated_RoleBased</th>\n",
       "      <th>Slots</th>\n",
       "      <th>Domain</th>\n",
       "    </tr>\n",
       "  </thead>\n",
       "  <tbody>\n",
       "    <tr>\n",
       "      <th>0</th>\n",
       "      <td>[where's the nearest parking garage., The near...</td>\n",
       "      <td>[where's the entity_2 entity_4., the entity_2 ...</td>\n",
       "      <td>[where's the distance_1 poi_type_1., the dista...</td>\n",
       "      <td>[[where's the nearest parking garage., The nea...</td>\n",
       "      <td>[where's the nearest parking garage., The near...</td>\n",
       "      <td>[where's the entity_2 entity_4., the entity_2 ...</td>\n",
       "      <td>[[where's the nearest parking garage., The nea...</td>\n",
       "      <td>[where's the distance_1 poi_type_1., the dista...</td>\n",
       "      <td>{'distance': ['nearest'], 'poi_type': ['parkin...</td>\n",
       "      <td>navigate</td>\n",
       "    </tr>\n",
       "    <tr>\n",
       "      <th>1</th>\n",
       "      <td>[Where is the nearest gas station?, There is a...</td>\n",
       "      <td>[where is the entity_1 entity_4?, there is a e...</td>\n",
       "      <td>[where is the distance_1 poi_type_1?, there is...</td>\n",
       "      <td>[[Where is the nearest gas station?, There is ...</td>\n",
       "      <td>[Where is the nearest gas station?, There is a...</td>\n",
       "      <td>[where is the entity_1 entity_4?, there is a e...</td>\n",
       "      <td>[[Where is the nearest gas station?, There is ...</td>\n",
       "      <td>[where is the distance_1 poi_type_1?, there is...</td>\n",
       "      <td>{'distance': ['nearest', '4 miles away'], 'poi...</td>\n",
       "      <td>navigate</td>\n",
       "    </tr>\n",
       "    <tr>\n",
       "      <th>2</th>\n",
       "      <td>[show me the closest location where i can get ...</td>\n",
       "      <td>[show me the entity_1 location where i can get...</td>\n",
       "      <td>[show me the distance_1 location where i can g...</td>\n",
       "      <td>[[show me the closest location where i can get...</td>\n",
       "      <td>[show me the closest location where i can get ...</td>\n",
       "      <td>[show me the entity_1 location where i can get...</td>\n",
       "      <td>[[show me the closest location where i can get...</td>\n",
       "      <td>[show me the distance_1 location where i can g...</td>\n",
       "      <td>{'distance': ['closest', '5 miles away'], 'poi...</td>\n",
       "      <td>navigate</td>\n",
       "    </tr>\n",
       "    <tr>\n",
       "      <th>3</th>\n",
       "      <td>[What time is dinner and who is it with?, Dinn...</td>\n",
       "      <td>[what time is entity_1 and who is it with?, en...</td>\n",
       "      <td>[what time is event_1 and who is it with?, eve...</td>\n",
       "      <td>[[What time is dinner and who is it with?, Din...</td>\n",
       "      <td>[What time is dinner and who is it with?, Dinn...</td>\n",
       "      <td>[what time is entity_1 and who is it with?, en...</td>\n",
       "      <td>[[What time is dinner and who is it with?, Din...</td>\n",
       "      <td>[what time is event_1 and who is it with?, eve...</td>\n",
       "      <td>{'event': ['dinner']}</td>\n",
       "      <td>schedule</td>\n",
       "    </tr>\n",
       "    <tr>\n",
       "      <th>4</th>\n",
       "      <td>[schedule dentist appointment., when is your d...</td>\n",
       "      <td>[schedule entity_2., when is your entity_2., i...</td>\n",
       "      <td>[schedule event_1., when is your event_1., it ...</td>\n",
       "      <td>[[schedule dentist appointment., when is your ...</td>\n",
       "      <td>[schedule dentist appointment., when is your d...</td>\n",
       "      <td>[schedule entity_2., when is your entity_2., s...</td>\n",
       "      <td>[[schedule dentist appointment., when is your ...</td>\n",
       "      <td>[schedule event_1., when is your event_1., sch...</td>\n",
       "      <td>{'event': ['dentist appointment'], 'date': ['s...</td>\n",
       "      <td>schedule</td>\n",
       "    </tr>\n",
       "  </tbody>\n",
       "</table>\n",
       "</div>"
      ],
      "text/plain": [
       "                                      Original_turns  \\\n",
       "0  [where's the nearest parking garage., The near...   \n",
       "1  [Where is the nearest gas station?, There is a...   \n",
       "2  [show me the closest location where i can get ...   \n",
       "3  [What time is dinner and who is it with?, Dinn...   \n",
       "4  [schedule dentist appointment., when is your d...   \n",
       "\n",
       "                                Original_EntityIndex  \\\n",
       "0  [where's the entity_2 entity_4., the entity_2 ...   \n",
       "1  [where is the entity_1 entity_4?, there is a e...   \n",
       "2  [show me the entity_1 location where i can get...   \n",
       "3  [what time is entity_1 and who is it with?, en...   \n",
       "4  [schedule entity_2., when is your entity_2., i...   \n",
       "\n",
       "                                  Original_RoleBased  \\\n",
       "0  [where's the distance_1 poi_type_1., the dista...   \n",
       "1  [where is the distance_1 poi_type_1?, there is...   \n",
       "2  [show me the distance_1 location where i can g...   \n",
       "3  [what time is event_1 and who is it with?, eve...   \n",
       "4  [schedule event_1., when is your event_1., it ...   \n",
       "\n",
       "                          Original_RoleBased_INVERSE  \\\n",
       "0  [[where's the nearest parking garage., The nea...   \n",
       "1  [[Where is the nearest gas station?, There is ...   \n",
       "2  [[show me the closest location where i can get...   \n",
       "3  [[What time is dinner and who is it with?, Din...   \n",
       "4  [[schedule dentist appointment., when is your ...   \n",
       "\n",
       "                                  Reformulated_turns  \\\n",
       "0  [where's the nearest parking garage., The near...   \n",
       "1  [Where is the nearest gas station?, There is a...   \n",
       "2  [show me the closest location where i can get ...   \n",
       "3  [What time is dinner and who is it with?, Dinn...   \n",
       "4  [schedule dentist appointment., when is your d...   \n",
       "\n",
       "                            Reformulated_EntityIndex  \\\n",
       "0  [where's the entity_2 entity_4., the entity_2 ...   \n",
       "1  [where is the entity_1 entity_4?, there is a e...   \n",
       "2  [show me the entity_1 location where i can get...   \n",
       "3  [what time is entity_1 and who is it with?, en...   \n",
       "4  [schedule entity_2., when is your entity_2., s...   \n",
       "\n",
       "                      Reformulated_RoleBased_INVERSE  \\\n",
       "0  [[where's the nearest parking garage., The nea...   \n",
       "1  [[Where is the nearest gas station?, There is ...   \n",
       "2  [[show me the closest location where i can get...   \n",
       "3  [[What time is dinner and who is it with?, Din...   \n",
       "4  [[schedule dentist appointment., when is your ...   \n",
       "\n",
       "                              Reformulated_RoleBased  \\\n",
       "0  [where's the distance_1 poi_type_1., the dista...   \n",
       "1  [where is the distance_1 poi_type_1?, there is...   \n",
       "2  [show me the distance_1 location where i can g...   \n",
       "3  [what time is event_1 and who is it with?, eve...   \n",
       "4  [schedule event_1., when is your event_1., sch...   \n",
       "\n",
       "                                               Slots    Domain  \n",
       "0  {'distance': ['nearest'], 'poi_type': ['parkin...  navigate  \n",
       "1  {'distance': ['nearest', '4 miles away'], 'poi...  navigate  \n",
       "2  {'distance': ['closest', '5 miles away'], 'poi...  navigate  \n",
       "3                              {'event': ['dinner']}  schedule  \n",
       "4  {'event': ['dentist appointment'], 'date': ['s...  schedule  "
      ]
     },
     "metadata": {},
     "output_type": "display_data"
    },
    {
     "name": "stdout",
     "output_type": "stream",
     "text": [
      "\n",
      "TEST\n",
      "______\n",
      "\n"
     ]
    },
    {
     "name": "stderr",
     "output_type": "stream",
     "text": [
      "276it [00:44,  4.95it/s]\n",
      "276it [00:52,  5.13it/s]\n",
      "276it [00:00, 276944.47it/s]\n",
      "276it [00:49,  4.35it/s]\n",
      "276it [00:00, ?it/s]\n",
      "276it [00:41,  5.07it/s]\n"
     ]
    },
    {
     "name": "stdout",
     "output_type": "stream",
     "text": [
      "0 1064 0.0\n"
     ]
    },
    {
     "data": {
      "text/html": [
       "<div>\n",
       "<style scoped>\n",
       "    .dataframe tbody tr th:only-of-type {\n",
       "        vertical-align: middle;\n",
       "    }\n",
       "\n",
       "    .dataframe tbody tr th {\n",
       "        vertical-align: top;\n",
       "    }\n",
       "\n",
       "    .dataframe thead th {\n",
       "        text-align: right;\n",
       "    }\n",
       "</style>\n",
       "<table border=\"1\" class=\"dataframe\">\n",
       "  <thead>\n",
       "    <tr style=\"text-align: right;\">\n",
       "      <th></th>\n",
       "      <th>Original_turns</th>\n",
       "      <th>Original_EntityIndex</th>\n",
       "      <th>Original_RoleBased</th>\n",
       "      <th>Original_RoleBased_INVERSE</th>\n",
       "      <th>Reformulated_turns</th>\n",
       "      <th>Reformulated_EntityIndex</th>\n",
       "      <th>Reformulated_RoleBased_INVERSE</th>\n",
       "      <th>Reformulated_RoleBased</th>\n",
       "      <th>Slots</th>\n",
       "      <th>Domain</th>\n",
       "    </tr>\n",
       "  </thead>\n",
       "  <tbody>\n",
       "    <tr>\n",
       "      <th>0</th>\n",
       "      <td>[remind me to take my pills., What time do you...</td>\n",
       "      <td>[remind me to entity_1., what time do you need...</td>\n",
       "      <td>[remind me to event_1., what time do you need ...</td>\n",
       "      <td>[[remind me to take my pills., What time do yo...</td>\n",
       "      <td>[remind me to take my pills., What time do you...</td>\n",
       "      <td>[remind me to entity_1., what time do you need...</td>\n",
       "      <td>[[remind me to take my pills., What time do yo...</td>\n",
       "      <td>[remind me to event_1., what time do you need ...</td>\n",
       "      <td>{'event': ['take pills'], 'time': ['7pm']}</td>\n",
       "      <td>schedule</td>\n",
       "    </tr>\n",
       "    <tr>\n",
       "      <th>1</th>\n",
       "      <td>[What gas stations are here?, There is a Chevr...</td>\n",
       "      <td>[what entity_3 are here?, there is a entity_2....</td>\n",
       "      <td>[what poi_type_1 are here?, there is a poi_1.,...</td>\n",
       "      <td>[[What gas stations are here?, There is a Chev...</td>\n",
       "      <td>[What gas stations are here?, There is a Chevr...</td>\n",
       "      <td>[what entity_3 are here?, there is a entity_2....</td>\n",
       "      <td>[[What gas stations are here?, There is a Chev...</td>\n",
       "      <td>[what poi_type_1 are here?, there is a poi_1.,...</td>\n",
       "      <td>{'poi_type': ['gas stations', 'gas station'], ...</td>\n",
       "      <td>navigate</td>\n",
       "    </tr>\n",
       "    <tr>\n",
       "      <th>2</th>\n",
       "      <td>[what's the temperature going to be like on fr...</td>\n",
       "      <td>[what's the entity_3 going to be like on entit...</td>\n",
       "      <td>[what's the weather_attribute_1 going to be li...</td>\n",
       "      <td>[[what's the temperature going to be like on f...</td>\n",
       "      <td>[what's the temperature going to be like on fr...</td>\n",
       "      <td>[what's the entity_3 going to be like on entit...</td>\n",
       "      <td>[[what's the temperature going to be like on f...</td>\n",
       "      <td>[what's the weather_attribute_1 going to be li...</td>\n",
       "      <td>{'date': ['friday'], 'weather_attribute': ['te...</td>\n",
       "      <td>weather</td>\n",
       "    </tr>\n",
       "    <tr>\n",
       "      <th>3</th>\n",
       "      <td>[give me directions to the closest grocery sto...</td>\n",
       "      <td>[give me directions to the closest entity_5., ...</td>\n",
       "      <td>[give me directions to the closest poi_type_1....</td>\n",
       "      <td>[[give me directions to the closest grocery st...</td>\n",
       "      <td>[give me directions to the closest grocery sto...</td>\n",
       "      <td>[give me directions to the closest entity_5., ...</td>\n",
       "      <td>[[give me directions to the closest grocery st...</td>\n",
       "      <td>[give me directions to the closest poi_type_1....</td>\n",
       "      <td>{'poi_type': ['grocery store'], 'traffic_info'...</td>\n",
       "      <td>navigate</td>\n",
       "    </tr>\n",
       "    <tr>\n",
       "      <th>4</th>\n",
       "      <td>[What will the weather in Fresno be in the nex...</td>\n",
       "      <td>[what will the weather in entity_2 be in the e...</td>\n",
       "      <td>[what will the weather in location_1 be in the...</td>\n",
       "      <td>[[What will the weather in Fresno be in the ne...</td>\n",
       "      <td>[What will the weather in Fresno be in the nex...</td>\n",
       "      <td>[what will the weather in entity_2 be in the e...</td>\n",
       "      <td>[[What will the weather in Fresno be in the ne...</td>\n",
       "      <td>[what will the weather in location_1 be in the...</td>\n",
       "      <td>{'date': ['next 48 hours'], 'location': ['fres...</td>\n",
       "      <td>weather</td>\n",
       "    </tr>\n",
       "  </tbody>\n",
       "</table>\n",
       "</div>"
      ],
      "text/plain": [
       "                                      Original_turns  \\\n",
       "0  [remind me to take my pills., What time do you...   \n",
       "1  [What gas stations are here?, There is a Chevr...   \n",
       "2  [what's the temperature going to be like on fr...   \n",
       "3  [give me directions to the closest grocery sto...   \n",
       "4  [What will the weather in Fresno be in the nex...   \n",
       "\n",
       "                                Original_EntityIndex  \\\n",
       "0  [remind me to entity_1., what time do you need...   \n",
       "1  [what entity_3 are here?, there is a entity_2....   \n",
       "2  [what's the entity_3 going to be like on entit...   \n",
       "3  [give me directions to the closest entity_5., ...   \n",
       "4  [what will the weather in entity_2 be in the e...   \n",
       "\n",
       "                                  Original_RoleBased  \\\n",
       "0  [remind me to event_1., what time do you need ...   \n",
       "1  [what poi_type_1 are here?, there is a poi_1.,...   \n",
       "2  [what's the weather_attribute_1 going to be li...   \n",
       "3  [give me directions to the closest poi_type_1....   \n",
       "4  [what will the weather in location_1 be in the...   \n",
       "\n",
       "                          Original_RoleBased_INVERSE  \\\n",
       "0  [[remind me to take my pills., What time do yo...   \n",
       "1  [[What gas stations are here?, There is a Chev...   \n",
       "2  [[what's the temperature going to be like on f...   \n",
       "3  [[give me directions to the closest grocery st...   \n",
       "4  [[What will the weather in Fresno be in the ne...   \n",
       "\n",
       "                                  Reformulated_turns  \\\n",
       "0  [remind me to take my pills., What time do you...   \n",
       "1  [What gas stations are here?, There is a Chevr...   \n",
       "2  [what's the temperature going to be like on fr...   \n",
       "3  [give me directions to the closest grocery sto...   \n",
       "4  [What will the weather in Fresno be in the nex...   \n",
       "\n",
       "                            Reformulated_EntityIndex  \\\n",
       "0  [remind me to entity_1., what time do you need...   \n",
       "1  [what entity_3 are here?, there is a entity_2....   \n",
       "2  [what's the entity_3 going to be like on entit...   \n",
       "3  [give me directions to the closest entity_5., ...   \n",
       "4  [what will the weather in entity_2 be in the e...   \n",
       "\n",
       "                      Reformulated_RoleBased_INVERSE  \\\n",
       "0  [[remind me to take my pills., What time do yo...   \n",
       "1  [[What gas stations are here?, There is a Chev...   \n",
       "2  [[what's the temperature going to be like on f...   \n",
       "3  [[give me directions to the closest grocery st...   \n",
       "4  [[What will the weather in Fresno be in the ne...   \n",
       "\n",
       "                              Reformulated_RoleBased  \\\n",
       "0  [remind me to event_1., what time do you need ...   \n",
       "1  [what poi_type_1 are here?, there is a poi_1.,...   \n",
       "2  [what's the weather_attribute_1 going to be li...   \n",
       "3  [give me directions to the closest poi_type_1....   \n",
       "4  [what will the weather in location_1 be in the...   \n",
       "\n",
       "                                               Slots    Domain  \n",
       "0         {'event': ['take pills'], 'time': ['7pm']}  schedule  \n",
       "1  {'poi_type': ['gas stations', 'gas station'], ...  navigate  \n",
       "2  {'date': ['friday'], 'weather_attribute': ['te...   weather  \n",
       "3  {'poi_type': ['grocery store'], 'traffic_info'...  navigate  \n",
       "4  {'date': ['next 48 hours'], 'location': ['fres...   weather  "
      ]
     },
     "metadata": {},
     "output_type": "display_data"
    },
    {
     "name": "stdout",
     "output_type": "stream",
     "text": [
      "\n",
      "DEV\n",
      "______\n",
      "\n"
     ]
    },
    {
     "name": "stderr",
     "output_type": "stream",
     "text": [
      "271it [00:40,  6.71it/s]\n",
      "271it [00:49,  5.42it/s]\n",
      "271it [00:00, 90505.33it/s]\n",
      "271it [00:57,  4.75it/s]\n",
      "271it [00:00, 270890.46it/s]\n",
      "271it [00:54,  4.97it/s]\n"
     ]
    },
    {
     "name": "stdout",
     "output_type": "stream",
     "text": [
      "0 1045 0.0\n"
     ]
    },
    {
     "data": {
      "text/html": [
       "<div>\n",
       "<style scoped>\n",
       "    .dataframe tbody tr th:only-of-type {\n",
       "        vertical-align: middle;\n",
       "    }\n",
       "\n",
       "    .dataframe tbody tr th {\n",
       "        vertical-align: top;\n",
       "    }\n",
       "\n",
       "    .dataframe thead th {\n",
       "        text-align: right;\n",
       "    }\n",
       "</style>\n",
       "<table border=\"1\" class=\"dataframe\">\n",
       "  <thead>\n",
       "    <tr style=\"text-align: right;\">\n",
       "      <th></th>\n",
       "      <th>Original_turns</th>\n",
       "      <th>Original_EntityIndex</th>\n",
       "      <th>Original_RoleBased</th>\n",
       "      <th>Original_RoleBased_INVERSE</th>\n",
       "      <th>Reformulated_turns</th>\n",
       "      <th>Reformulated_EntityIndex</th>\n",
       "      <th>Reformulated_RoleBased_INVERSE</th>\n",
       "      <th>Reformulated_RoleBased</th>\n",
       "      <th>Slots</th>\n",
       "      <th>Domain</th>\n",
       "    </tr>\n",
       "  </thead>\n",
       "  <tbody>\n",
       "    <tr>\n",
       "      <th>0</th>\n",
       "      <td>[make an appointment to reserve conference roo...</td>\n",
       "      <td>[make an appointment to reserve entity_4 later...</td>\n",
       "      <td>[make an appointment to reserve room_1 later t...</td>\n",
       "      <td>[[make an appointment to reserve conference ro...</td>\n",
       "      <td>[make an appointment to reserve conference roo...</td>\n",
       "      <td>[make an appointment to reserve entity_4 later...</td>\n",
       "      <td>[[make an appointment to reserve conference ro...</td>\n",
       "      <td>[make an appointment to reserve room_1 later t...</td>\n",
       "      <td>{'agenda': ['for a meeting'], 'event': ['meeti...</td>\n",
       "      <td>schedule</td>\n",
       "    </tr>\n",
       "    <tr>\n",
       "      <th>1</th>\n",
       "      <td>[Is there supposed to be a blizzard in brentwo...</td>\n",
       "      <td>[is there supposed to be a entity_3 in entity_...</td>\n",
       "      <td>[is there supposed to be a weather_attribute_1...</td>\n",
       "      <td>[[Is there supposed to be a blizzard in brentw...</td>\n",
       "      <td>[Is there supposed to be a blizzard in brentwo...</td>\n",
       "      <td>[is there supposed to be a entity_3 in entity_...</td>\n",
       "      <td>[[Is there supposed to be a blizzard in brentw...</td>\n",
       "      <td>[is there supposed to be a weather_attribute_1...</td>\n",
       "      <td>{'date': ['friday'], 'location': ['brentwood']...</td>\n",
       "      <td>weather</td>\n",
       "    </tr>\n",
       "    <tr>\n",
       "      <th>2</th>\n",
       "      <td>[Address to the gas station ., Valero is locat...</td>\n",
       "      <td>[address to the entity_3., entity_2 is located...</td>\n",
       "      <td>[address to the poi_type_1., poi_1 is located ...</td>\n",
       "      <td>[[Address to the gas station ., Valero is loca...</td>\n",
       "      <td>[Address to the gas station ., Valero is locat...</td>\n",
       "      <td>[address to the entity_3., entity_2 is located...</td>\n",
       "      <td>[[Address to the gas station ., Valero is loca...</td>\n",
       "      <td>[address to the poi_type_1., poi_1 is located ...</td>\n",
       "      <td>{'poi_type': ['gas station'], 'traffic_info': ...</td>\n",
       "      <td>navigate</td>\n",
       "    </tr>\n",
       "    <tr>\n",
       "      <th>3</th>\n",
       "      <td>[get me directions to the nearest starbucks., ...</td>\n",
       "      <td>[get me directions to the entity_6 entity_3., ...</td>\n",
       "      <td>[get me directions to the traffic_info_1 poi_1...</td>\n",
       "      <td>[[get me directions to the nearest starbucks.,...</td>\n",
       "      <td>[get me directions to the nearest starbucks., ...</td>\n",
       "      <td>[get me directions to the entity_6 entity_3., ...</td>\n",
       "      <td>[[get me directions to the nearest starbucks.,...</td>\n",
       "      <td>[get me directions to the traffic_info_1 poi_1...</td>\n",
       "      <td>{'poi': ['starbucks', 'coupa'], 'traffic_info'...</td>\n",
       "      <td>navigate</td>\n",
       "    </tr>\n",
       "    <tr>\n",
       "      <th>4</th>\n",
       "      <td>[remind me of the time for today's dinner., Di...</td>\n",
       "      <td>[remind me of the time for today's entity_2., ...</td>\n",
       "      <td>[remind me of the time for today's event_1., e...</td>\n",
       "      <td>[[remind me of the time for today's dinner., D...</td>\n",
       "      <td>[remind me of the time for today's dinner., Di...</td>\n",
       "      <td>[remind me of the time for today's entity_2., ...</td>\n",
       "      <td>[[remind me of the time for today's dinner., D...</td>\n",
       "      <td>[remind me of the time for today's event_1., e...</td>\n",
       "      <td>{'date': ['wednesday'], 'event': ['dinner'], '...</td>\n",
       "      <td>schedule</td>\n",
       "    </tr>\n",
       "  </tbody>\n",
       "</table>\n",
       "</div>"
      ],
      "text/plain": [
       "                                      Original_turns  \\\n",
       "0  [make an appointment to reserve conference roo...   \n",
       "1  [Is there supposed to be a blizzard in brentwo...   \n",
       "2  [Address to the gas station ., Valero is locat...   \n",
       "3  [get me directions to the nearest starbucks., ...   \n",
       "4  [remind me of the time for today's dinner., Di...   \n",
       "\n",
       "                                Original_EntityIndex  \\\n",
       "0  [make an appointment to reserve entity_4 later...   \n",
       "1  [is there supposed to be a entity_3 in entity_...   \n",
       "2  [address to the entity_3., entity_2 is located...   \n",
       "3  [get me directions to the entity_6 entity_3., ...   \n",
       "4  [remind me of the time for today's entity_2., ...   \n",
       "\n",
       "                                  Original_RoleBased  \\\n",
       "0  [make an appointment to reserve room_1 later t...   \n",
       "1  [is there supposed to be a weather_attribute_1...   \n",
       "2  [address to the poi_type_1., poi_1 is located ...   \n",
       "3  [get me directions to the traffic_info_1 poi_1...   \n",
       "4  [remind me of the time for today's event_1., e...   \n",
       "\n",
       "                          Original_RoleBased_INVERSE  \\\n",
       "0  [[make an appointment to reserve conference ro...   \n",
       "1  [[Is there supposed to be a blizzard in brentw...   \n",
       "2  [[Address to the gas station ., Valero is loca...   \n",
       "3  [[get me directions to the nearest starbucks.,...   \n",
       "4  [[remind me of the time for today's dinner., D...   \n",
       "\n",
       "                                  Reformulated_turns  \\\n",
       "0  [make an appointment to reserve conference roo...   \n",
       "1  [Is there supposed to be a blizzard in brentwo...   \n",
       "2  [Address to the gas station ., Valero is locat...   \n",
       "3  [get me directions to the nearest starbucks., ...   \n",
       "4  [remind me of the time for today's dinner., Di...   \n",
       "\n",
       "                            Reformulated_EntityIndex  \\\n",
       "0  [make an appointment to reserve entity_4 later...   \n",
       "1  [is there supposed to be a entity_3 in entity_...   \n",
       "2  [address to the entity_3., entity_2 is located...   \n",
       "3  [get me directions to the entity_6 entity_3., ...   \n",
       "4  [remind me of the time for today's entity_2., ...   \n",
       "\n",
       "                      Reformulated_RoleBased_INVERSE  \\\n",
       "0  [[make an appointment to reserve conference ro...   \n",
       "1  [[Is there supposed to be a blizzard in brentw...   \n",
       "2  [[Address to the gas station ., Valero is loca...   \n",
       "3  [[get me directions to the nearest starbucks.,...   \n",
       "4  [[remind me of the time for today's dinner., D...   \n",
       "\n",
       "                              Reformulated_RoleBased  \\\n",
       "0  [make an appointment to reserve room_1 later t...   \n",
       "1  [is there supposed to be a weather_attribute_1...   \n",
       "2  [address to the poi_type_1., poi_1 is located ...   \n",
       "3  [get me directions to the traffic_info_1 poi_1...   \n",
       "4  [remind me of the time for today's event_1., e...   \n",
       "\n",
       "                                               Slots    Domain  \n",
       "0  {'agenda': ['for a meeting'], 'event': ['meeti...  schedule  \n",
       "1  {'date': ['friday'], 'location': ['brentwood']...   weather  \n",
       "2  {'poi_type': ['gas station'], 'traffic_info': ...  navigate  \n",
       "3  {'poi': ['starbucks', 'coupa'], 'traffic_info'...  navigate  \n",
       "4  {'date': ['wednesday'], 'event': ['dinner'], '...  schedule  "
      ]
     },
     "metadata": {},
     "output_type": "display_data"
    }
   ],
   "source": [
    "files = [('train', 'cqr_kvret_train_public.json'),\n",
    "         ('test', 'cqr_kvret_test_public.json'),\n",
    "         ('dev', 'cqr_kvret_dev_public.json')]\n",
    "data = defaultdict(list)\n",
    "\n",
    "for dataset, filename in files:\n",
    "    print(\"\\n{}\\n______\\n\".format(dataset.upper()))\n",
    "    with open(filename, 'r') as file:\n",
    "        data[dataset] = json.load(file)\n",
    "    slotsData = []\n",
    "    #puntuating the turns and combining dialogues into one for sequence to sequence model input\n",
    "    inputDataArray = [[addPunct(turn['data']['utterance']) for turn in dialogue['dialogue']] for dialogue in data[dataset]]\n",
    "    domain = []\n",
    "    for dialogue in data[dataset]:\n",
    "        slot_set = set()\n",
    "        temp_slots = defaultdict(list)\n",
    "        domain.append(dialogue['scenario']['task']['intent'])\n",
    "#         continue\n",
    "        for turn in dialogue['dialogue']:\n",
    "            slots = list(turn['data'].setdefault('slots', {}).items())\n",
    "            slots.extend(list(turn.setdefault('reformulation', {}).setdefault('slots', {}).items()))\n",
    "            for slot in slots:\n",
    "                for slot in slotgenerator(slot):\n",
    "                    if slot in slot_set:\n",
    "                        continue\n",
    "                    slot_set.add(slot)\n",
    "                    temp_slots[slot[0]].append(slot[1])\n",
    "        slotsData.append(temp_slots)\n",
    "#     display(domain)\n",
    "#     continue\n",
    "#     sys.exit()\n",
    "    outputDataArray = []\n",
    "    for dialogue in data[dataset]:\n",
    "        text = [addPunct(turn['data']['utterance']) for turn in dialogue['dialogue']]\n",
    "        for i, x in enumerate(text):\n",
    "            if dialogue['dialogue'][i]['reformulation'].setdefault('reformulated_utt', None):\n",
    "                text[i-1] = dialogue['dialogue'][i]['reformulation']['reformulated_utt']\n",
    "                text[i-1] = addPunct(text[i-1])\n",
    "        outputDataArray.append(text)\n",
    "    DataTable = {'Original_turns': inputDataArray,\n",
    "                 'Original_EntityIndex':[rolebased(x[:], y, slot_type=False) for x, y in tqdm(zip(inputDataArray, slotsData))],\n",
    "                 'Original_RoleBased':[rolebased(x[:], y) for x, y in tqdm(zip(inputDataArray, slotsData))],\n",
    "                 'Original_RoleBased_INVERSE':[[x[:], y] for x, y in tqdm(zip(inputDataArray, slotsData))],\n",
    "                 'Reformulated_turns': outputDataArray, \n",
    "                 'Reformulated_EntityIndex':[rolebased(x[:], y, slot_type=False) for x, y in tqdm(zip(outputDataArray, slotsData))], \n",
    "                 'Reformulated_RoleBased_INVERSE':[[x[:], y] for x, y in tqdm(zip(outputDataArray, slotsData))],\n",
    "                 'Reformulated_RoleBased':[rolebased(x[:], y) for x, y in tqdm(zip(outputDataArray, slotsData))],\n",
    "                 'Slots': slotsData,\n",
    "                 'Domain': domain\n",
    "                }\n",
    "#     sys.exit()\n",
    "    unused_slots = sum([sum([sum([type(entity)!=str for entity in entities ]) for entities in slots.values()]) for slots in slotsData])\n",
    "    all_slots = sum([sum([len(entities) for entities in slots.values()]) for slots in slotsData])\n",
    "    print(unused_slots, all_slots, unused_slots/all_slots)\n",
    "    table = pd.DataFrame.from_dict(DataTable)\n",
    "    display(table.head())\n",
    "    table.to_json('Data/Table/{} CQR Table.json'.format(dataset.upper()))\n",
    "        "
   ]
  },
  {
   "cell_type": "code",
   "execution_count": 4,
   "metadata": {},
   "outputs": [
    {
     "name": "stderr",
     "output_type": "stream",
     "text": [
      "30it [00:02,  9.50it/s]\n",
      "30it [00:03,  8.63it/s]\n"
     ]
    },
    {
     "data": {
      "text/plain": [
       "['What are the different forms of energy?',\n",
       " 'How can it be stored?',\n",
       " 'What type of energy is used in motion?',\n",
       " 'Tell me about mechanical energy.',\n",
       " 'Give me some examples.',\n",
       " 'Why is sound a form of mechanical energy?',\n",
       " 'How does it differ from potential energy?',\n",
       " 'Are potential and kinetic the same?',\n",
       " 'What type does chemical energy belong to?',\n",
       " 'What form of energy is used in eating?']"
      ]
     },
     "metadata": {},
     "output_type": "display_data"
    },
    {
     "data": {
      "text/plain": [
       "['What are the different forms of energy?',\n",
       " 'How can energy be stored?',\n",
       " 'What type of energy is used in motion?',\n",
       " 'Tell me about mechanical energy.',\n",
       " 'Give me some examples of mechanical energy',\n",
       " 'Why is sound a form of mechanical energy?',\n",
       " 'How does mechanical energy differ from potential energy?',\n",
       " 'Are potential and kinetic energy the same?',\n",
       " 'What type of energy does chemical energy belong to?',\n",
       " 'What form of energy is used in eating?']"
      ]
     },
     "metadata": {},
     "output_type": "display_data"
    },
    {
     "data": {
      "text/plain": [
       "[{},\n",
       " {'it': ['energy']},\n",
       " {},\n",
       " {},\n",
       " {'': ['mechanical energy']},\n",
       " {},\n",
       " {'it': ['mechanical energy']},\n",
       " {},\n",
       " {'': ['energy']},\n",
       " {}]"
      ]
     },
     "metadata": {},
     "output_type": "display_data"
    },
    {
     "data": {
      "text/plain": [
       "['What are the different forms of energy?',\n",
       " 'How can it be stored?',\n",
       " 'What type of energy is used in motion?',\n",
       " 'Tell me about mechanical energy.',\n",
       " 'Give me some examples.',\n",
       " 'Why is sound a form of mechanical energy?',\n",
       " 'How does it differ from potential energy?',\n",
       " 'Are potential and kinetic the same?',\n",
       " 'What type does chemical energy belong to?',\n",
       " 'What form of energy is used in eating?']"
      ]
     },
     "metadata": {},
     "output_type": "display_data"
    },
    {
     "data": {
      "text/plain": [
       "['what are the different forms of entity_2?',\n",
       " 'how can it be stored?',\n",
       " 'what type of entity_2 is used in motion?',\n",
       " 'tell me about entity_1.',\n",
       " 'give me some examples.',\n",
       " 'why is sound a form of entity_1?',\n",
       " 'how does it differ from potential entity_2?',\n",
       " 'are potential and kinetic the same?',\n",
       " 'what type does chemical entity_2 belong to?',\n",
       " 'what form of entity_2 is used in eating?']"
      ]
     },
     "metadata": {},
     "output_type": "display_data"
    },
    {
     "data": {
      "text/plain": [
       "['what are the different forms of entity_2?',\n",
       " 'how can entity_2 be stored?',\n",
       " 'what type of entity_2 is used in motion?',\n",
       " 'tell me about entity_1.',\n",
       " 'give me some examples of entity_1',\n",
       " 'why is sound a form of entity_1?',\n",
       " 'how does entity_1 differ from potential entity_2?',\n",
       " 'are potential and kinetic entity_2 the same?',\n",
       " 'what type of entity_2 does chemical entity_2 belong to?',\n",
       " 'what form of entity_2 is used in eating?']"
      ]
     },
     "metadata": {},
     "output_type": "display_data"
    },
    {
     "data": {
      "text/plain": [
       "defaultdict(list, {'it': ['energy'], '': ['mechanical energy']})"
      ]
     },
     "metadata": {},
     "output_type": "display_data"
    }
   ],
   "source": [
    "table = pd.read_json('Data\\Table\\TREC+ CQR Table.json')\n",
    "slotsData = []\n",
    "for dialogslots in table.Slots:\n",
    "    temp = defaultdict(list)\n",
    "    slotset = set()\n",
    "    for slot_slottype in dialogslots:\n",
    "        for all_slots in [slotgenerator(x) for x in list(slot_slottype.items())]:\n",
    "            for slot in all_slots:\n",
    "                if slot[1] not in slotset:\n",
    "                    slotset.add(slot[1])\n",
    "                    temp[slot[0]].append(slot[1])\n",
    "#                 print(slot)\n",
    "    slotsData.append(temp)\n",
    "table['Original_EntityIndex'] = [rolebased(x[:], y, slot_type=False, ordered=True) for x, y in tqdm(zip(table.Original_no_abs, slotsData))]\n",
    "table['Reformulated_EntityIndex'] = [rolebased(x[:], y, slot_type=False, ordered=True) for x, y in tqdm(zip(table.Reformulated_turns, slotsData))]\n",
    "display(*table.iloc[8], slotsData[8])\n",
    "table.to_json('Data\\Table\\TREC++ CQR Table.json')"
   ]
  },
  {
   "cell_type": "code",
   "execution_count": 12,
   "metadata": {
    "scrolled": true
   },
   "outputs": [
    {
     "name": "stdout",
     "output_type": "stream",
     "text": [
      "64\n"
     ]
    },
    {
     "data": {
      "text/plain": [
       "'DEV'"
      ]
     },
     "metadata": {},
     "output_type": "display_data"
    },
    {
     "data": {
      "text/html": [
       "<div>\n",
       "<style scoped>\n",
       "    .dataframe tbody tr th:only-of-type {\n",
       "        vertical-align: middle;\n",
       "    }\n",
       "\n",
       "    .dataframe tbody tr th {\n",
       "        vertical-align: top;\n",
       "    }\n",
       "\n",
       "    .dataframe thead th {\n",
       "        text-align: right;\n",
       "    }\n",
       "</style>\n",
       "<table border=\"1\" class=\"dataframe\">\n",
       "  <thead>\n",
       "    <tr style=\"text-align: right;\">\n",
       "      <th></th>\n",
       "      <th>0</th>\n",
       "      <th>1</th>\n",
       "      <th>2</th>\n",
       "      <th>3</th>\n",
       "    </tr>\n",
       "  </thead>\n",
       "  <tbody>\n",
       "    <tr>\n",
       "      <th>0</th>\n",
       "      <td>{distance_1, poi_type_1}</td>\n",
       "      <td>{}</td>\n",
       "      <td>{}</td>\n",
       "      <td>{}</td>\n",
       "    </tr>\n",
       "    <tr>\n",
       "      <th>1</th>\n",
       "      <td>{distance_1}</td>\n",
       "      <td>{address_1, distance_1, poi_1}</td>\n",
       "      <td>{distance_1, poi_type_1}</td>\n",
       "      <td>{}</td>\n",
       "    </tr>\n",
       "  </tbody>\n",
       "</table>\n",
       "</div>"
      ],
      "text/plain": [
       "                          0                               1  \\\n",
       "0  {distance_1, poi_type_1}                              {}   \n",
       "1              {distance_1}  {address_1, distance_1, poi_1}   \n",
       "\n",
       "                          2   3  \n",
       "0                        {}  {}  \n",
       "1  {distance_1, poi_type_1}  {}  "
      ]
     },
     "metadata": {},
     "output_type": "display_data"
    },
    {
     "data": {
      "text/plain": [
       "'Data/DEV'"
      ]
     },
     "metadata": {},
     "output_type": "display_data"
    },
    {
     "data": {
      "text/html": [
       "<div>\n",
       "<style scoped>\n",
       "    .dataframe tbody tr th:only-of-type {\n",
       "        vertical-align: middle;\n",
       "    }\n",
       "\n",
       "    .dataframe tbody tr th {\n",
       "        vertical-align: top;\n",
       "    }\n",
       "\n",
       "    .dataframe thead th {\n",
       "        text-align: right;\n",
       "    }\n",
       "</style>\n",
       "<table border=\"1\" class=\"dataframe\">\n",
       "  <thead>\n",
       "    <tr style=\"text-align: right;\">\n",
       "      <th></th>\n",
       "      <th>0</th>\n",
       "      <th>1</th>\n",
       "      <th>2</th>\n",
       "      <th>3</th>\n",
       "    </tr>\n",
       "  </thead>\n",
       "  <tbody>\n",
       "    <tr>\n",
       "      <th>0</th>\n",
       "      <td>{distance_1, poi_type_1}</td>\n",
       "      <td>{}</td>\n",
       "      <td>{}</td>\n",
       "      <td>{}</td>\n",
       "    </tr>\n",
       "    <tr>\n",
       "      <th>1</th>\n",
       "      <td>{distance_2}</td>\n",
       "      <td>{distance_3, poi_1, address_1}</td>\n",
       "      <td>{poi_type_1}</td>\n",
       "      <td>{}</td>\n",
       "    </tr>\n",
       "  </tbody>\n",
       "</table>\n",
       "</div>"
      ],
      "text/plain": [
       "                          0                               1             2   3\n",
       "0  {distance_1, poi_type_1}                              {}            {}  {}\n",
       "1              {distance_2}  {distance_3, poi_1, address_1}  {poi_type_1}  {}"
      ]
     },
     "metadata": {},
     "output_type": "display_data"
    },
    {
     "data": {
      "text/plain": [
       "'DEV'"
      ]
     },
     "metadata": {},
     "output_type": "display_data"
    },
    {
     "data": {
      "text/plain": [
       "['find me a distance_1 poi_type_1 where i can sit and have some coffee.',\n",
       " 'the poi_1 is located at address_1, it is distance_1 with moderate traffic.',\n",
       " \"that's great! please send me the address of the poi_type_1 poi_1 distance_2 at address_1 on screen and pick the distance_1 to the poi_type_1 poi_1 distance_2 at address_1 for me.\",\n",
       " \"i sent the info on your screen, you're welcome!\"]"
      ]
     },
     "metadata": {},
     "output_type": "display_data"
    },
    {
     "data": {
      "text/plain": [
       "'Data/DEV'"
      ]
     },
     "metadata": {},
     "output_type": "display_data"
    },
    {
     "data": {
      "text/plain": [
       "['find me a distance_1 poi_type_1 where i can sit and have some coffee.',\n",
       " 'the poi_1 is located at address_1, it is distance_3 with moderate traffic.',\n",
       " \"that's great! please send me the address of the poi_type_1 poi_1 distance_3 at address_1 on screen and pick the distance_2 to the poi_type_1 poi_1 distance_3 at address_1 for me.\",\n",
       " \"i sent the info on your screen, you're welcome!\"]"
      ]
     },
     "metadata": {},
     "output_type": "display_data"
    },
    {
     "data": {
      "text/plain": [
       "'DEV'"
      ]
     },
     "metadata": {},
     "output_type": "display_data"
    },
    {
     "data": {
      "text/plain": [
       "['find me a distance_1 poi_type_1 where i can sit and have some coffee.',\n",
       " 'the poi_1 is located at address_1, it is distance_1 with moderate traffic.',\n",
       " \"that's great! please send me its address on screen and pick the distance_1 for me.\",\n",
       " \"i sent the info on your screen, you're welcome!\"]"
      ]
     },
     "metadata": {},
     "output_type": "display_data"
    },
    {
     "data": {
      "text/plain": [
       "'Data/DEV'"
      ]
     },
     "metadata": {},
     "output_type": "display_data"
    },
    {
     "data": {
      "text/plain": [
       "['find me a distance_1 poi_type_1 where i can sit and have some coffee.',\n",
       " 'the poi_1 is located at address_1, it is distance_3 with moderate traffic.',\n",
       " \"that's great! please send me its address on screen and pick the distance_2 for me.\",\n",
       " \"i sent the info on your screen, you're welcome!\"]"
      ]
     },
     "metadata": {},
     "output_type": "display_data"
    },
    {
     "data": {
      "text/plain": [
       "'Original'"
      ]
     },
     "metadata": {},
     "output_type": "display_data"
    },
    {
     "data": {
      "text/plain": [
       "['find me a nearby coffee shop where i can sit and have some coffee.',\n",
       " 'The Palo Alto Cafe is located at 436 Alger Dr, it is 2 miles away with moderate traffic.',\n",
       " \"That's great! Please send me its address on screen and pick the quickest way for me.\",\n",
       " \"I sent the info on your screen, you're welcome!\"]"
      ]
     },
     "metadata": {},
     "output_type": "display_data"
    },
    {
     "data": {
      "text/plain": [
       "'Reformulated'"
      ]
     },
     "metadata": {},
     "output_type": "display_data"
    },
    {
     "data": {
      "text/plain": [
       "['find me a nearby coffee shop where i can sit and have some coffee.',\n",
       " 'The Palo Alto Cafe is located at 436 Alger Dr, it is 2 miles away with moderate traffic.',\n",
       " \"That's great! Please send me the address of the coffee shop Palo Alto Cafe 2 miles away at 436 Alger Dr on screen and pick the quickest way to the coffee shop Palo Alto Cafe 2 miles away at 436 Alger Dr for me.\",\n",
       " \"I sent the info on your screen, you're welcome!\"]"
      ]
     },
     "metadata": {},
     "output_type": "display_data"
    },
    {
     "data": {
      "text/plain": [
       "'Slots'"
      ]
     },
     "metadata": {},
     "output_type": "display_data"
    },
    {
     "data": {
      "text/plain": [
       "{'distance': ['nearby', 'quickest way', '2 miles away'],\n",
       " 'poi_type': ['coffee shop'],\n",
       " 'address': ['436 alger dr'],\n",
       " 'poi': ['palo alto cafe']}"
      ]
     },
     "metadata": {},
     "output_type": "display_data"
    }
   ],
   "source": [
    "# to test evaluation set\n",
    "def evalSet(Islots, Oslots, table, maxD=3):\n",
    "    for i, o in zip(Islots, Oslots):\n",
    "        for d in range(maxD+1):\n",
    "            eSet = i[d].intersection(o)\n",
    "            table[d].append(eSet)\n",
    "            \n",
    "index = randint(0,240) #[randint(0,240) for _ in range(2)]\n",
    "print(index)\n",
    "for dataset in ['DEV', 'Data/DEV']:\n",
    "    if dataset == 'DEV':\n",
    "        ptable = pd.read_json(dataset +' CQR Table.json').iloc[index:index+1]\n",
    "    table = pd.read_json(dataset +' CQR Table.json').iloc[index:index+1]\n",
    "    inputDslots = table.Original_RoleBased.apply(dialog2TurnInputEval)\n",
    "    outputDsolts = table.Reformulated_RoleBased.apply(dialog2TurnOutputEval)\n",
    "\n",
    "    evaluation = defaultdict(list)\n",
    "    for Islots, Oslots in zip(inputDslots, outputDsolts):\n",
    "        evalSet(Islots, Oslots, evaluation)\n",
    "    eTable = pd.DataFrame.from_dict(evaluation)\n",
    "    display(dataset, eTable)\n",
    "display('DEV', *ptable.Reformulated_RoleBased ,\"Data/DEV\", *table.Reformulated_RoleBased)\n",
    "display('DEV', *ptable.Original_RoleBased ,\"Data/DEV\", *table.Original_RoleBased)\n",
    "display('Original', *ptable.Original_turns ,\"Reformulated\", *table.Reformulated_turns)\n",
    "display('Slots', *table.Slots)"
   ]
  },
  {
   "cell_type": "markdown",
   "metadata": {},
   "source": [
    "## Dialog to Turn"
   ]
  },
  {
   "cell_type": "code",
   "execution_count": 2,
   "metadata": {
    "scrolled": true
   },
   "outputs": [
    {
     "name": "stderr",
     "output_type": "stream",
     "text": [
      "100%|████████████████████████████████████████████████████████| 2131/2131 [05:40<00:00,  5.88it/s]\n",
      "100%|████████████████████████████████████████████████████████| 2131/2131 [02:09<00:00, 16.04it/s]\n",
      "2131it [00:00, 39545.80it/s]\n"
     ]
    },
    {
     "data": {
      "text/plain": [
       "'TRAIN'"
      ]
     },
     "metadata": {},
     "output_type": "display_data"
    },
    {
     "data": {
      "text/html": [
       "<div>\n",
       "<style scoped>\n",
       "    .dataframe tbody tr th:only-of-type {\n",
       "        vertical-align: middle;\n",
       "    }\n",
       "\n",
       "    .dataframe tbody tr th {\n",
       "        vertical-align: top;\n",
       "    }\n",
       "\n",
       "    .dataframe thead th {\n",
       "        text-align: right;\n",
       "    }\n",
       "</style>\n",
       "<table border=\"1\" class=\"dataframe\">\n",
       "  <thead>\n",
       "    <tr style=\"text-align: right;\">\n",
       "      <th></th>\n",
       "      <th>SlotIndex</th>\n",
       "      <th>0</th>\n",
       "      <th>1</th>\n",
       "      <th>2</th>\n",
       "      <th>3</th>\n",
       "      <th>Domain</th>\n",
       "    </tr>\n",
       "  </thead>\n",
       "  <tbody>\n",
       "    <tr>\n",
       "      <th>0</th>\n",
       "      <td>0</td>\n",
       "      <td>{distance_1, poi_type_1}</td>\n",
       "      <td>{}</td>\n",
       "      <td>{}</td>\n",
       "      <td>{}</td>\n",
       "      <td>navigate</td>\n",
       "    </tr>\n",
       "    <tr>\n",
       "      <th>1</th>\n",
       "      <td>0</td>\n",
       "      <td>{}</td>\n",
       "      <td>{distance_1, poi_type_1, poi_1, address_1}</td>\n",
       "      <td>{distance_1, poi_type_1}</td>\n",
       "      <td>{}</td>\n",
       "      <td>navigate</td>\n",
       "    </tr>\n",
       "    <tr>\n",
       "      <th>2</th>\n",
       "      <td>0</td>\n",
       "      <td>{}</td>\n",
       "      <td>{}</td>\n",
       "      <td>{}</td>\n",
       "      <td>{}</td>\n",
       "      <td>navigate</td>\n",
       "    </tr>\n",
       "    <tr>\n",
       "      <th>3</th>\n",
       "      <td>1</td>\n",
       "      <td>{distance_1, poi_type_1}</td>\n",
       "      <td>{}</td>\n",
       "      <td>{}</td>\n",
       "      <td>{}</td>\n",
       "      <td>navigate</td>\n",
       "    </tr>\n",
       "    <tr>\n",
       "      <th>4</th>\n",
       "      <td>1</td>\n",
       "      <td>{}</td>\n",
       "      <td>{distance_2, poi_1}</td>\n",
       "      <td>{poi_type_1}</td>\n",
       "      <td>{}</td>\n",
       "      <td>navigate</td>\n",
       "    </tr>\n",
       "  </tbody>\n",
       "</table>\n",
       "</div>"
      ],
      "text/plain": [
       "   SlotIndex                         0  \\\n",
       "0          0  {distance_1, poi_type_1}   \n",
       "1          0                        {}   \n",
       "2          0                        {}   \n",
       "3          1  {distance_1, poi_type_1}   \n",
       "4          1                        {}   \n",
       "\n",
       "                                            1                         2   3  \\\n",
       "0                                          {}                        {}  {}   \n",
       "1  {distance_1, poi_type_1, poi_1, address_1}  {distance_1, poi_type_1}  {}   \n",
       "2                                          {}                        {}  {}   \n",
       "3                                          {}                        {}  {}   \n",
       "4                         {distance_2, poi_1}              {poi_type_1}  {}   \n",
       "\n",
       "     Domain  \n",
       "0  navigate  \n",
       "1  navigate  \n",
       "2  navigate  \n",
       "3  navigate  \n",
       "4  navigate  "
      ]
     },
     "metadata": {},
     "output_type": "display_data"
    },
    {
     "name": "stderr",
     "output_type": "stream",
     "text": [
      "100%|██████████████████████████████████████████████████████████| 276/276 [00:47<00:00,  7.03it/s]\n",
      "100%|██████████████████████████████████████████████████████████| 276/276 [00:16<00:00, 17.71it/s]\n",
      "276it [00:00, 25157.07it/s]\n"
     ]
    },
    {
     "data": {
      "text/plain": [
       "'TEST'"
      ]
     },
     "metadata": {},
     "output_type": "display_data"
    },
    {
     "data": {
      "text/html": [
       "<div>\n",
       "<style scoped>\n",
       "    .dataframe tbody tr th:only-of-type {\n",
       "        vertical-align: middle;\n",
       "    }\n",
       "\n",
       "    .dataframe tbody tr th {\n",
       "        vertical-align: top;\n",
       "    }\n",
       "\n",
       "    .dataframe thead th {\n",
       "        text-align: right;\n",
       "    }\n",
       "</style>\n",
       "<table border=\"1\" class=\"dataframe\">\n",
       "  <thead>\n",
       "    <tr style=\"text-align: right;\">\n",
       "      <th></th>\n",
       "      <th>SlotIndex</th>\n",
       "      <th>0</th>\n",
       "      <th>1</th>\n",
       "      <th>2</th>\n",
       "      <th>3</th>\n",
       "      <th>Domain</th>\n",
       "    </tr>\n",
       "  </thead>\n",
       "  <tbody>\n",
       "    <tr>\n",
       "      <th>0</th>\n",
       "      <td>0</td>\n",
       "      <td>{event_1}</td>\n",
       "      <td>{}</td>\n",
       "      <td>{}</td>\n",
       "      <td>{}</td>\n",
       "      <td>schedule</td>\n",
       "    </tr>\n",
       "    <tr>\n",
       "      <th>1</th>\n",
       "      <td>0</td>\n",
       "      <td>{event_1, time_1}</td>\n",
       "      <td>{event_1}</td>\n",
       "      <td>{event_1}</td>\n",
       "      <td>{}</td>\n",
       "      <td>schedule</td>\n",
       "    </tr>\n",
       "    <tr>\n",
       "      <th>2</th>\n",
       "      <td>1</td>\n",
       "      <td>{poi_type_1}</td>\n",
       "      <td>{}</td>\n",
       "      <td>{}</td>\n",
       "      <td>{}</td>\n",
       "      <td>navigate</td>\n",
       "    </tr>\n",
       "    <tr>\n",
       "      <th>3</th>\n",
       "      <td>1</td>\n",
       "      <td>{distance_1, traffic_info_1}</td>\n",
       "      <td>{poi_1}</td>\n",
       "      <td>{}</td>\n",
       "      <td>{}</td>\n",
       "      <td>navigate</td>\n",
       "    </tr>\n",
       "    <tr>\n",
       "      <th>4</th>\n",
       "      <td>1</td>\n",
       "      <td>{}</td>\n",
       "      <td>{poi_1}</td>\n",
       "      <td>{}</td>\n",
       "      <td>{poi_1}</td>\n",
       "      <td>navigate</td>\n",
       "    </tr>\n",
       "  </tbody>\n",
       "</table>\n",
       "</div>"
      ],
      "text/plain": [
       "   SlotIndex                             0          1          2        3  \\\n",
       "0          0                     {event_1}         {}         {}       {}   \n",
       "1          0             {event_1, time_1}  {event_1}  {event_1}       {}   \n",
       "2          1                  {poi_type_1}         {}         {}       {}   \n",
       "3          1  {distance_1, traffic_info_1}    {poi_1}         {}       {}   \n",
       "4          1                            {}    {poi_1}         {}  {poi_1}   \n",
       "\n",
       "     Domain  \n",
       "0  schedule  \n",
       "1  schedule  \n",
       "2  navigate  \n",
       "3  navigate  \n",
       "4  navigate  "
      ]
     },
     "metadata": {},
     "output_type": "display_data"
    },
    {
     "name": "stderr",
     "output_type": "stream",
     "text": [
      "100%|██████████████████████████████████████████████████████████| 271/271 [00:43<00:00,  5.50it/s]\n",
      "100%|██████████████████████████████████████████████████████████| 271/271 [00:16<00:00, 15.34it/s]\n",
      "271it [00:00, 24727.66it/s]\n"
     ]
    },
    {
     "data": {
      "text/plain": [
       "'DEV'"
      ]
     },
     "metadata": {},
     "output_type": "display_data"
    },
    {
     "data": {
      "text/html": [
       "<div>\n",
       "<style scoped>\n",
       "    .dataframe tbody tr th:only-of-type {\n",
       "        vertical-align: middle;\n",
       "    }\n",
       "\n",
       "    .dataframe tbody tr th {\n",
       "        vertical-align: top;\n",
       "    }\n",
       "\n",
       "    .dataframe thead th {\n",
       "        text-align: right;\n",
       "    }\n",
       "</style>\n",
       "<table border=\"1\" class=\"dataframe\">\n",
       "  <thead>\n",
       "    <tr style=\"text-align: right;\">\n",
       "      <th></th>\n",
       "      <th>SlotIndex</th>\n",
       "      <th>0</th>\n",
       "      <th>1</th>\n",
       "      <th>2</th>\n",
       "      <th>3</th>\n",
       "      <th>Domain</th>\n",
       "    </tr>\n",
       "  </thead>\n",
       "  <tbody>\n",
       "    <tr>\n",
       "      <th>0</th>\n",
       "      <td>0</td>\n",
       "      <td>{agenda_1, room_1}</td>\n",
       "      <td>{}</td>\n",
       "      <td>{}</td>\n",
       "      <td>{}</td>\n",
       "      <td>schedule</td>\n",
       "    </tr>\n",
       "    <tr>\n",
       "      <th>1</th>\n",
       "      <td>0</td>\n",
       "      <td>{date_1, time_1}</td>\n",
       "      <td>{}</td>\n",
       "      <td>{agenda_1, room_1}</td>\n",
       "      <td>{}</td>\n",
       "      <td>schedule</td>\n",
       "    </tr>\n",
       "    <tr>\n",
       "      <th>2</th>\n",
       "      <td>1</td>\n",
       "      <td>{location_1, weather_attribute_1, date_1}</td>\n",
       "      <td>{}</td>\n",
       "      <td>{}</td>\n",
       "      <td>{}</td>\n",
       "      <td>weather</td>\n",
       "    </tr>\n",
       "    <tr>\n",
       "      <th>3</th>\n",
       "      <td>1</td>\n",
       "      <td>{}</td>\n",
       "      <td>{}</td>\n",
       "      <td>{}</td>\n",
       "      <td>{}</td>\n",
       "      <td>weather</td>\n",
       "    </tr>\n",
       "    <tr>\n",
       "      <th>4</th>\n",
       "      <td>2</td>\n",
       "      <td>{distance_1, poi_type_1}</td>\n",
       "      <td>{}</td>\n",
       "      <td>{}</td>\n",
       "      <td>{}</td>\n",
       "      <td>navigate</td>\n",
       "    </tr>\n",
       "  </tbody>\n",
       "</table>\n",
       "</div>"
      ],
      "text/plain": [
       "   SlotIndex                                          0   1  \\\n",
       "0          0                         {agenda_1, room_1}  {}   \n",
       "1          0                           {date_1, time_1}  {}   \n",
       "2          1  {location_1, weather_attribute_1, date_1}  {}   \n",
       "3          1                                         {}  {}   \n",
       "4          2                   {distance_1, poi_type_1}  {}   \n",
       "\n",
       "                    2   3    Domain  \n",
       "0                  {}  {}  schedule  \n",
       "1  {agenda_1, room_1}  {}  schedule  \n",
       "2                  {}  {}   weather  \n",
       "3                  {}  {}   weather  \n",
       "4                  {}  {}  navigate  "
      ]
     },
     "metadata": {},
     "output_type": "display_data"
    }
   ],
   "source": [
    "# Creating evaluation files\n",
    "def evalSet(Islots, Oslots, index, domain, table, maxD=3):\n",
    "    for i, o in zip(Islots, Oslots):\n",
    "        table['SlotIndex'].append(index)\n",
    "        for d in range(maxD+1):\n",
    "            eSet = i[d].intersection(o)\n",
    "            table[d].append(eSet)\n",
    "        table['Domain'].append(domain)\n",
    "            \n",
    "for dataset in ['TRAIN', 'TEST', 'DEV']:\n",
    "    table = pd.read_json('Data/Table/' + dataset +' CQR Table.json')    \n",
    "    \n",
    "    inputDslots = table.Original_RoleBased.progress_apply(dialog2TurnInputEval)\n",
    "    outputDsolts = table.Reformulated_RoleBased.progress_apply(dialog2TurnOutputEval)\n",
    "    \n",
    "    evaluation = defaultdict(list)\n",
    "    for i, (Islots, Oslots, domain) in tqdm(enumerate(zip(inputDslots, outputDsolts, table.Domain))):\n",
    "        evalSet(Islots, Oslots, i, domain, evaluation)\n",
    "    eTable = pd.DataFrame.from_dict(evaluation)\n",
    "    display(dataset, eTable.head())\n",
    "    eTable.to_json(\"Data/Evaluation/{} EVAL Table.json\".format(dataset))"
   ]
  },
  {
   "cell_type": "code",
   "execution_count": 5,
   "metadata": {},
   "outputs": [
    {
     "name": "stderr",
     "output_type": "stream",
     "text": [
      "100%|█████████████████████████████████████████████████████████| 30/30 [00:00<00:00, 30073.88it/s]\n",
      "100%|█████████████████████████████████████████████████████████| 30/30 [00:00<00:00, 29599.89it/s]\n"
     ]
    }
   ],
   "source": [
    "fileextension = 'Entity_index'\n",
    "def evalSet(Islots, Oslots, table, maxD=3):\n",
    "    for i, o in zip(Islots, Oslots):\n",
    "        for d in range(maxD+1):\n",
    "            eSet = i[d].intersection(o)\n",
    "            table[d].append(eSet)\n",
    "\n",
    "for dataset in ['TRAIN', 'TEST', 'DEV', 'TREC++'][3:]:\n",
    "    table = pd.read_json('Data/Table/'+dataset +' CQR Table.json')\n",
    "    with open('Data/Model/'+dataset + '_'+fileextension+'_input.txt', 'w') as file:\n",
    "        file.write(\"\\n\".join(table\n",
    "                             .Original_EntityIndex\n",
    "                             .progress_apply(dialogs2TurnInput)\n",
    "                             .apply(lambda x: \"\\n\".join(x))\n",
    "                            )\n",
    "                  )\n",
    "    with open('Data/Model/Output/'+dataset + '_'+fileextension+'_output.txt', 'w') as file:\n",
    "        file.write(\"\\n\".join(table\n",
    "                             .Reformulated_EntityIndex\n",
    "                             .progress_apply(dialogs2TurnOutput)\n",
    "                             .apply(lambda x: \"\\n\".join(x))\n",
    "                            )\n",
    "                  )"
   ]
  },
  {
   "cell_type": "code",
   "execution_count": 7,
   "metadata": {},
   "outputs": [
    {
     "data": {
      "text/plain": [
       "['<user> give me directions to distance_1 poi_type_1.',\n",
       " '<user> give me directions to distance_2 poi_type_1. <system> there is poi_1 distance_1 from here but with heavy traffic on our way. <user> give me the address.',\n",
       " '<user> give me directions to distance_2 poi_type_1. <system> there is poi_1 distance_1 from here but with heavy traffic on our way. <user> give me the address. <system> the address to poi_1 is address_1. <user> thank you car, please pick the quickest way to get there!']"
      ]
     },
     "metadata": {},
     "output_type": "display_data"
    },
    {
     "data": {
      "text/plain": [
       "['<user> give me directions to distance_1 poi_type_1.',\n",
       " '<user> give me directions to distance_1 poi_type_1. <system> there is poi_1 distance_2 from here but with heavy traffic on our way. <user> give me the address.',\n",
       " '<user> give me directions to distance_1 poi_type_1. <system> there is poi_1 distance_2 from here but with heavy traffic on our way. <user> give me the address. <system> the address to poi_1 is address_1. <user> thank you car, please pick the quickest way to get there!']"
      ]
     },
     "metadata": {},
     "output_type": "display_data"
    },
    {
     "data": {
      "text/plain": [
       "['give me directions to distance_1 poi_type_1.',\n",
       " 'give me the address of the poi_type_1 poi_1 distance_1.',\n",
       " 'thank you car, please pick the quickest way to get to the poi_type_1 poi_1 distance_1 at address_1!']"
      ]
     },
     "metadata": {},
     "output_type": "display_data"
    }
   ],
   "source": [
    "table = pd.read_json('Data/Table/DEV CQR Table.json')\n",
    "test = dialogs2TurnInput(table.iloc[2][3],index=False)\n",
    "display(test, dialogs2TurnInput(table.iloc[2][2]), dialogs2TurnOutput(table.iloc[2][6], index=False))"
   ]
  },
  {
   "cell_type": "code",
   "execution_count": 8,
   "metadata": {},
   "outputs": [
    {
     "name": "stdout",
     "output_type": "stream",
     "text": [
      "101 44\n"
     ]
    },
    {
     "name": "stderr",
     "output_type": "stream",
     "text": [
      "100%|█████████████████████████████████████████████████████████████| 2/2 [00:00<00:00, 154.28it/s]\n"
     ]
    }
   ],
   "source": [
    "from sklearn.model_selection import train_test_split \n",
    "for dataset in ['TREC++_Entity_index']:\n",
    "    with open('Data/Model/'+dataset +'_input.txt', 'r') as file:\n",
    "        all_input = np.array(file.readlines())\n",
    "    with open('Data/Model/Output/'+dataset +'_output.txt', 'r') as file:\n",
    "        all_output = np.array(file.readlines())\n",
    "        \n",
    "    X_train, X_test, y_train, y_test = train_test_split(all_input, all_output, test_size=.30)\n",
    "    print(len(X_train), len(X_test))\n",
    "    for extension, X, y in tqdm([('TRAIN', X_train, y_train), ('TEST', X_test, y_test)]):\n",
    "        with open('Data/Model/'+dataset + '_'+ extension+'_input.txt', 'w') as f:\n",
    "            print(*X, file=f)\n",
    "        with open('Data/Model/Output/'+dataset + '_'+ extension+'_output.txt', 'w') as f:\n",
    "            print(*y, file=f)"
   ]
  },
  {
   "cell_type": "code",
   "execution_count": 3,
   "metadata": {
    "scrolled": true
   },
   "outputs": [
    {
     "name": "stdout",
     "output_type": "stream",
     "text": [
      "Chunks the car nsubj\n",
      "Chunks you nsubj\n",
      "Chunks it nsubj\n",
      "Pos Where ADV\n",
      "Pos is VERB\n",
      "Pos the DET\n",
      "Pos car NOUN\n",
      "Pos you PRON\n",
      "Pos said VERB\n",
      "Pos was VERB\n",
      "Pos mine PRON\n",
      "Pos , PUNCT\n",
      "Pos or CCONJ\n",
      "Pos is VERB\n",
      "Pos it PRON\n",
      "Pos yours ADJ\n"
     ]
    }
   ],
   "source": [
    "import spacy\n",
    "\n",
    "nlp = spacy.load(\"en_core_web_sm\")\n",
    "doc = nlp(u\"Where is the car you said was mine, or is it yours\")\n",
    "\n",
    "for ent in doc.ents:\n",
    "    print('Entities', ent.text, ent.start_char, ent.end_char, ent.label_)\n",
    "    \n",
    "for chunk in doc.noun_chunks:\n",
    "    print('Chunks', chunk.text, chunk.root.dep_)\n",
    "    \n",
    "for token in doc:\n",
    "    print('Pos', token, token.pos_)"
   ]
  },
  {
   "cell_type": "code",
   "execution_count": 14,
   "metadata": {},
   "outputs": [
    {
     "data": {
      "text/plain": [
       "[('RNN ALL', 'Results/logs/RNN_ALL_log.txt'),\n",
       " ('RNN Role Based Entity', 'Results/logs/RNN_GLOVE_RBEI_log.txt'),\n",
       " ('RNN Role Based Entity', 'Results/logs/RNN_RBEI_log.txt'),\n",
       " ('RNN Vanilla', 'Results/logs/RNN_VAN_log.txt'),\n",
       " ('Transformer ALL', 'Results/logs/TRAN_ALL_log.txt'),\n",
       " ('Transformer Role Based Entity', 'Results/logs/TRAN_RBEI_log.txt'),\n",
       " ('Transformer Vanilla', 'Results/logs/TRAN_VAN_log.txt')]"
      ]
     },
     "execution_count": 14,
     "metadata": {},
     "output_type": "execute_result"
    }
   ],
   "source": [
    "import os\n",
    "def getName(file):\n",
    "    \"\"\"\n",
    "    Extracts name from file\n",
    "    :param turn: file\n",
    "    :return: name\n",
    "    \"\"\"\n",
    "    name = \"\"\n",
    "    name += 'Transformer ' if \"TRAN\" in file else \"RNN \" if \"RNN\" in file else \"\"\n",
    "    name += \"ALL\" if \"ALL\" in file else \"Vanilla\" if \"VAN\" in file else \"Role Based Entity\" if name else \"\"\n",
    "    return name if name else file[:-4]\n",
    "\n",
    "allData = [(getName(file), \"Results/logs/\"+file) \n",
    "           for file in os.listdir(\"Results/logs\")]\n",
    "allData"
   ]
  },
  {
   "cell_type": "code",
   "execution_count": 56,
   "metadata": {},
   "outputs": [
    {
     "data": {
      "text/plain": [
       "110"
      ]
     },
     "metadata": {},
     "output_type": "display_data"
    },
    {
     "data": {
      "text/plain": [
       "{'location': ['new york'], 'date': ['friday'], 'weather_attribute': ['humid']}"
      ]
     },
     "metadata": {},
     "output_type": "display_data"
    },
    {
     "data": {
      "text/plain": [
       "['friday', 'new york', 'humid']"
      ]
     },
     "execution_count": 56,
     "metadata": {},
     "output_type": "execute_result"
    }
   ],
   "source": [
    "index = randint(0, 241)\n",
    "slots = pd.read_json('Data/Table/DEV CQR Table.json').Slots[index]\n",
    "display(index, slots)\n",
    "single_slot = reduce(lambda y, x: y+x, \n",
    "                     [[entity for entity in entities] \n",
    "                      for slot, entities in sorted(slots.items())])\n",
    "single_slot"
   ]
  },
  {
   "cell_type": "code",
   "execution_count": 48,
   "metadata": {},
   "outputs": [
    {
     "data": {
      "text/plain": [
       "('distance', ['within 5 miles', '2 miles away'])"
      ]
     },
     "execution_count": 48,
     "metadata": {},
     "output_type": "execute_result"
    }
   ],
   "source": [
    "from functools import reduce\n",
    "a = reduce(lambda y, x: y, sorted(slots.items())) \n",
    "a"
   ]
  },
  {
   "cell_type": "code",
   "execution_count": 7,
   "metadata": {},
   "outputs": [
    {
     "name": "stdout",
     "output_type": "stream",
     "text": [
      "TRAIN 6019\n",
      "TEST 784\n",
      "DEV 744\n"
     ]
    }
   ],
   "source": [
    "for dataset in ['TRAIN', 'TEST', 'DEV', 'TREC'][:3]:\n",
    "    with open('Data/Model/'+dataset + '_ALL_D2T_input.txt', 'r') as file:\n",
    "        print(dataset, len(file.readlines()))"
   ]
  },
  {
   "cell_type": "code",
   "execution_count": 2,
   "metadata": {},
   "outputs": [
    {
     "data": {
      "text/html": [
       "<div>\n",
       "<style scoped>\n",
       "    .dataframe tbody tr th:only-of-type {\n",
       "        vertical-align: middle;\n",
       "    }\n",
       "\n",
       "    .dataframe tbody tr th {\n",
       "        vertical-align: top;\n",
       "    }\n",
       "\n",
       "    .dataframe thead th {\n",
       "        text-align: right;\n",
       "    }\n",
       "</style>\n",
       "<table border=\"1\" class=\"dataframe\">\n",
       "  <thead>\n",
       "    <tr style=\"text-align: right;\">\n",
       "      <th></th>\n",
       "      <th>Name</th>\n",
       "      <th>date</th>\n",
       "      <th>party</th>\n",
       "      <th>room</th>\n",
       "      <th>weather_attribute</th>\n",
       "      <th>poi_type</th>\n",
       "      <th>location</th>\n",
       "      <th>address</th>\n",
       "      <th>day</th>\n",
       "      <th>traffic_info</th>\n",
       "      <th>time</th>\n",
       "      <th>agendas</th>\n",
       "      <th>event</th>\n",
       "      <th>agenda</th>\n",
       "      <th>poi</th>\n",
       "      <th>distance</th>\n",
       "    </tr>\n",
       "  </thead>\n",
       "  <tbody>\n",
       "    <tr>\n",
       "      <th>0</th>\n",
       "      <td>TRAIN</td>\n",
       "      <td>1201.0</td>\n",
       "      <td>329.0</td>\n",
       "      <td>29.0</td>\n",
       "      <td>704.0</td>\n",
       "      <td>758.0</td>\n",
       "      <td>787.0</td>\n",
       "      <td>577.0</td>\n",
       "      <td>1.0</td>\n",
       "      <td>503.0</td>\n",
       "      <td>428.0</td>\n",
       "      <td>1.0</td>\n",
       "      <td>544.0</td>\n",
       "      <td>65.0</td>\n",
       "      <td>768.0</td>\n",
       "      <td>739.0</td>\n",
       "    </tr>\n",
       "    <tr>\n",
       "      <th>1</th>\n",
       "      <td>TEST</td>\n",
       "      <td>137.0</td>\n",
       "      <td>30.0</td>\n",
       "      <td>0.0</td>\n",
       "      <td>79.0</td>\n",
       "      <td>94.0</td>\n",
       "      <td>100.0</td>\n",
       "      <td>57.0</td>\n",
       "      <td>0.0</td>\n",
       "      <td>49.0</td>\n",
       "      <td>42.0</td>\n",
       "      <td>0.0</td>\n",
       "      <td>76.0</td>\n",
       "      <td>4.0</td>\n",
       "      <td>96.0</td>\n",
       "      <td>87.0</td>\n",
       "    </tr>\n",
       "    <tr>\n",
       "      <th>2</th>\n",
       "      <td>DEV</td>\n",
       "      <td>139.0</td>\n",
       "      <td>33.0</td>\n",
       "      <td>3.0</td>\n",
       "      <td>87.0</td>\n",
       "      <td>94.0</td>\n",
       "      <td>97.0</td>\n",
       "      <td>43.0</td>\n",
       "      <td>0.0</td>\n",
       "      <td>48.0</td>\n",
       "      <td>50.0</td>\n",
       "      <td>0.0</td>\n",
       "      <td>72.0</td>\n",
       "      <td>7.0</td>\n",
       "      <td>93.0</td>\n",
       "      <td>81.0</td>\n",
       "    </tr>\n",
       "  </tbody>\n",
       "</table>\n",
       "</div>"
      ],
      "text/plain": [
       "    Name    date  party  room  weather_attribute  poi_type  location  address  \\\n",
       "0  TRAIN  1201.0  329.0  29.0              704.0     758.0     787.0    577.0   \n",
       "1   TEST   137.0   30.0   0.0               79.0      94.0     100.0     57.0   \n",
       "2    DEV   139.0   33.0   3.0               87.0      94.0      97.0     43.0   \n",
       "\n",
       "   day  traffic_info   time  agendas  event  agenda    poi  distance  \n",
       "0  1.0         503.0  428.0      1.0  544.0    65.0  768.0     739.0  \n",
       "1  0.0          49.0   42.0      0.0   76.0     4.0   96.0      87.0  \n",
       "2  0.0          48.0   50.0      0.0   72.0     7.0   93.0      81.0  "
      ]
     },
     "execution_count": 2,
     "metadata": {},
     "output_type": "execute_result"
    }
   ],
   "source": [
    "data = dict()\n",
    "all_types = set()\n",
    "for dataset in ['train', 'test', 'dev']:\n",
    "    types = Counter()\n",
    "    slots = pd.read_json('Data/Table/{} CQR Table.json'.format(dataset.upper())).Slots\n",
    "    for slot in slots:\n",
    "        types += Counter(slot.keys())\n",
    "    data[dataset.upper()] = types\n",
    "    all_types.update(types.keys())\n",
    "table = defaultdict(list)\n",
    "for dataset in data:\n",
    "    table['Name'].append(dataset)\n",
    "    total = 1#sum(data[dataset].values())*1.0\n",
    "    for types in all_types:\n",
    "        table[types].append(data[dataset][types]/total)\n",
    "pd.DataFrame.from_dict(table).to_excel('Results/Analysis/Slot Types count.xlsx', index=False)\n",
    "pd.DataFrame.from_dict(table)"
   ]
  },
  {
   "cell_type": "code",
   "execution_count": 5,
   "metadata": {},
   "outputs": [
    {
     "data": {
      "text/plain": [
       "Counter({'train': 5.633974659784139,\n",
       "         'test': 5.670289855072464,\n",
       "         'dev': 5.479704797047971})"
      ]
     },
     "execution_count": 5,
     "metadata": {},
     "output_type": "execute_result"
    }
   ],
   "source": [
    "Turns = Counter()\n",
    "for dataset in ['train', 'test', 'dev']:\n",
    "    dialogs = pd.read_json('Data/Table/{} CQR Table.json'.format(dataset.upper())).Original_turns\n",
    "    for dialog in dialogs:\n",
    "        Turns[dataset] += len(dialog)\n",
    "    Turns[dataset] /= len(dialogs)\n",
    "Turns"
   ]
  }
 ],
 "metadata": {
  "kernelspec": {
   "display_name": "Python 3",
   "language": "python",
   "name": "python3"
  },
  "language_info": {
   "codemirror_mode": {
    "name": "ipython",
    "version": 3
   },
   "file_extension": ".py",
   "mimetype": "text/x-python",
   "name": "python",
   "nbconvert_exporter": "python",
   "pygments_lexer": "ipython3",
   "version": "3.6.4"
  }
 },
 "nbformat": 4,
 "nbformat_minor": 2
}
